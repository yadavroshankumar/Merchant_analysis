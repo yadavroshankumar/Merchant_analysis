{
 "cells": [
  {
   "cell_type": "markdown",
   "id": "765746c2",
   "metadata": {},
   "source": [
    "# Convert json to CSV"
   ]
  },
  {
   "cell_type": "code",
   "execution_count": 5,
   "id": "32429784",
   "metadata": {},
   "outputs": [],
   "source": [
    "import pandas as pd\n",
    "data = pd.read_json ('sampleData.json',orient='index')\n",
    "data.to_csv ('Sample.csv', index = None)"
   ]
  },
  {
   "cell_type": "markdown",
   "id": "8ad998af",
   "metadata": {},
   "source": [
    "# Count the unique value present in each columns "
   ]
  },
  {
   "cell_type": "code",
   "execution_count": 10,
   "id": "11437d98",
   "metadata": {},
   "outputs": [
    {
     "data": {
      "text/plain": [
       "items            8\n",
       "k_user_id       10\n",
       "redeemed_at    999\n",
       "saleAmount       4\n",
       "user_id        571\n",
       "dtype: int64"
      ]
     },
     "execution_count": 10,
     "metadata": {},
     "output_type": "execute_result"
    }
   ],
   "source": [
    "df=pd.read_csv('Sample.csv') \n",
    "df.nunique()"
   ]
  },
  {
   "cell_type": "code",
   "execution_count": 13,
   "id": "339f6de1",
   "metadata": {},
   "outputs": [
    {
     "data": {
      "text/html": [
       "<div>\n",
       "<style scoped>\n",
       "    .dataframe tbody tr th:only-of-type {\n",
       "        vertical-align: middle;\n",
       "    }\n",
       "\n",
       "    .dataframe tbody tr th {\n",
       "        vertical-align: top;\n",
       "    }\n",
       "\n",
       "    .dataframe thead th {\n",
       "        text-align: right;\n",
       "    }\n",
       "</style>\n",
       "<table border=\"1\" class=\"dataframe\">\n",
       "  <thead>\n",
       "    <tr style=\"text-align: right;\">\n",
       "      <th></th>\n",
       "      <th>k_user_id</th>\n",
       "      <th>saleAmount</th>\n",
       "      <th>user_id</th>\n",
       "    </tr>\n",
       "  </thead>\n",
       "  <tbody>\n",
       "    <tr>\n",
       "      <th>count</th>\n",
       "      <td>999.000000</td>\n",
       "      <td>999.000000</td>\n",
       "      <td>999.000000</td>\n",
       "    </tr>\n",
       "    <tr>\n",
       "      <th>mean</th>\n",
       "      <td>4144.559560</td>\n",
       "      <td>19.449449</td>\n",
       "      <td>19525.547548</td>\n",
       "    </tr>\n",
       "    <tr>\n",
       "      <th>std</th>\n",
       "      <td>1445.979676</td>\n",
       "      <td>4.476301</td>\n",
       "      <td>8480.339334</td>\n",
       "    </tr>\n",
       "    <tr>\n",
       "      <th>min</th>\n",
       "      <td>2155.000000</td>\n",
       "      <td>0.000000</td>\n",
       "      <td>1795.000000</td>\n",
       "    </tr>\n",
       "    <tr>\n",
       "      <th>25%</th>\n",
       "      <td>4052.000000</td>\n",
       "      <td>20.000000</td>\n",
       "      <td>10199.000000</td>\n",
       "    </tr>\n",
       "    <tr>\n",
       "      <th>50%</th>\n",
       "      <td>4052.000000</td>\n",
       "      <td>20.000000</td>\n",
       "      <td>24484.000000</td>\n",
       "    </tr>\n",
       "    <tr>\n",
       "      <th>75%</th>\n",
       "      <td>4052.000000</td>\n",
       "      <td>20.000000</td>\n",
       "      <td>26710.000000</td>\n",
       "    </tr>\n",
       "    <tr>\n",
       "      <th>max</th>\n",
       "      <td>23832.000000</td>\n",
       "      <td>50.000000</td>\n",
       "      <td>27338.000000</td>\n",
       "    </tr>\n",
       "  </tbody>\n",
       "</table>\n",
       "</div>"
      ],
      "text/plain": [
       "          k_user_id  saleAmount       user_id\n",
       "count    999.000000  999.000000    999.000000\n",
       "mean    4144.559560   19.449449  19525.547548\n",
       "std     1445.979676    4.476301   8480.339334\n",
       "min     2155.000000    0.000000   1795.000000\n",
       "25%     4052.000000   20.000000  10199.000000\n",
       "50%     4052.000000   20.000000  24484.000000\n",
       "75%     4052.000000   20.000000  26710.000000\n",
       "max    23832.000000   50.000000  27338.000000"
      ]
     },
     "execution_count": 13,
     "metadata": {},
     "output_type": "execute_result"
    }
   ],
   "source": [
    "df.describe()"
   ]
  },
  {
   "cell_type": "markdown",
   "id": "588b59ba",
   "metadata": {},
   "source": [
    "# Count the number of time each merchant get Visited"
   ]
  },
  {
   "cell_type": "code",
   "execution_count": 25,
   "id": "e0f6588c",
   "metadata": {},
   "outputs": [
    {
     "name": "stdout",
     "output_type": "stream",
     "text": [
      "4052     524\n",
      "5979     122\n",
      "4059      95\n",
      "2746      87\n",
      "2155      76\n",
      "2774      32\n",
      "3680      32\n",
      "8215      22\n",
      "11044      8\n",
      "23832      1\n",
      "Name: k_user_id, dtype: int64\n"
     ]
    }
   ],
   "source": [
    "countdata=df['k_user_id'].value_counts()\n",
    "print(countdata)"
   ]
  },
  {
   "cell_type": "code",
   "execution_count": 28,
   "id": "f892ac55",
   "metadata": {},
   "outputs": [],
   "source": [
    "countdata.to_csv('Count_merchant.csv')"
   ]
  },
  {
   "cell_type": "code",
   "execution_count": null,
   "id": "3372ccba",
   "metadata": {},
   "outputs": [],
   "source": []
  }
 ],
 "metadata": {
  "kernelspec": {
   "display_name": "Python 3 (ipykernel)",
   "language": "python",
   "name": "python3"
  },
  "language_info": {
   "codemirror_mode": {
    "name": "ipython",
    "version": 3
   },
   "file_extension": ".py",
   "mimetype": "text/x-python",
   "name": "python",
   "nbconvert_exporter": "python",
   "pygments_lexer": "ipython3",
   "version": "3.9.7"
  }
 },
 "nbformat": 4,
 "nbformat_minor": 5
}
